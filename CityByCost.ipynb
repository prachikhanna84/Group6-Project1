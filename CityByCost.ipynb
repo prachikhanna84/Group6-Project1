{
 "cells": [
  {
   "cell_type": "code",
   "execution_count": 1,
   "metadata": {},
   "outputs": [],
   "source": [
    "import pandas as pd"
   ]
  },
  {
   "cell_type": "code",
   "execution_count": 2,
   "metadata": {},
   "outputs": [
    {
     "name": "stdout",
     "output_type": "stream",
     "text": [
      "How much are you willing to spend in one day per person \n",
      " Low Budget 30-124 \n",
      " Medium Budget 125-198 \n",
      " Premium Budget 200-850\n"
     ]
    }
   ],
   "source": [
    "print(\"How much are you willing to spend in one day per person \\n Low Budget 30-124 \\n Medium Budget 125-198 \\n Premium Budget 200-850\")\n",
    "# buget_range=input()"
   ]
  },
  {
   "cell_type": "code",
   "execution_count": 6,
   "metadata": {},
   "outputs": [
    {
     "name": "stdout",
     "output_type": "stream",
     "text": [
      "<built-in method index of str object at 0x00000261C576EAB0>\n",
      "<built-in method index of str object at 0x00000261C576EA70>\n",
      "<built-in method index of str object at 0x00000261C576E9F0>\n"
     ]
    }
   ],
   "source": [
    "city_name = pd.read_csv(\"Resources/uscity.csv\")\n",
    "travel_cost = pd.read_csv(\"Resources/Travel Cost.csv\")\n",
    "\n",
    "unique_index = pd.Index(travel_cost[\"State/Cities\"])\n",
    "index_loc = unique_index.get_loc('Michigan')\n",
    "\n",
    "for input_city in city_name[\"city\"]:\n",
    "    for city in travel_cost[\"State/Cities\"]:\n",
    "            if input_city.upper() == city.upper():\n",
    "                print(input_city.index)\n"
   ]
  },
  {
   "cell_type": "code",
   "execution_count": null,
   "metadata": {},
   "outputs": [],
   "source": []
  }
 ],
 "metadata": {
  "kernelspec": {
   "display_name": "Python 3",
   "language": "python",
   "name": "python3"
  },
  "language_info": {
   "codemirror_mode": {
    "name": "ipython",
    "version": 3
   },
   "file_extension": ".py",
   "mimetype": "text/x-python",
   "name": "python",
   "nbconvert_exporter": "python",
   "pygments_lexer": "ipython3",
   "version": "3.7.3"
  }
 },
 "nbformat": 4,
 "nbformat_minor": 2
}
