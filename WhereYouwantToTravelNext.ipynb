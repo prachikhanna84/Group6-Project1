{
 "cells": [
  {
   "cell_type": "code",
   "execution_count": 1,
   "metadata": {},
   "outputs": [],
   "source": [
    "# Dependencies\n",
    "import pandas as pd\n",
    "import csv\n",
    "import matplotlib.pyplot as plt\n",
    "import openweathermapy as ow\n",
    "\n",
    "api_key = \"362d2ce77ac1347c707f15a319677c99\""
   ]
  },
  {
   "cell_type": "code",
   "execution_count": 2,
   "metadata": {},
   "outputs": [
    {
     "name": "stdout",
     "output_type": "stream",
     "text": [
      "How much are you willing to spend in one day per person\n",
      "Min amount100\n",
      "Max amount200\n"
     ]
    }
   ],
   "source": [
    "print(\"How much are you willing to spend in one day per person\")\n",
    "min_amount=input(\"Min amount\")\n",
    "max_amount=input(\"Max amount\")"
   ]
  },
  {
   "cell_type": "code",
   "execution_count": 7,
   "metadata": {},
   "outputs": [
    {
     "name": "stdout",
     "output_type": "stream",
     "text": [
      "Please enter the area of your interests(all,dining,shopping,museums,sports,spas):dining\n",
      "Please enter place type (bar,cafe,casino,night_club,restaurant): bar\n"
     ]
    }
   ],
   "source": [
    "area_int=input(\"Please enter the area of your interests(all,dining,shopping,museums,sports,spas):\")\n",
    "    \n",
    "if area_int== \"all\":\n",
    "    int_type=input(\"Please enter place type (hotel,amusement_park,bar,cafe,casino,museum,night_club,restaurant,shopping_mall,spa,stadium,zoo): \")\n",
    "elif area_int== \"dining\":\n",
    "    int_type=input(\"Please enter place type (bar,cafe,casino,night_club,restaurant): \")\n",
    "elif area_int== \"shopping\":\n",
    "    int_type=input(\"Please enter place type (shopping_mall): \")\n",
    "elif area_int== \"museums\":\n",
    "    int_type=input(\"Please enter place type (museums,zoo): \")\n",
    "elif area_int==\"sports\":\n",
    "    int_type=input(\"Please enter place type (amusement_park,stadium): \")\n",
    "elif area_int==\"spas\":\n",
    "    int_type=input(\"Please enter place type (spas): \")  \n",
    "    \n",
    "#     put error handling for if user enter invalid data "
   ]
  },
  {
   "cell_type": "code",
   "execution_count": 12,
   "metadata": {},
   "outputs": [
    {
     "data": {
      "text/html": [
       "<div>\n",
       "<style scoped>\n",
       "    .dataframe tbody tr th:only-of-type {\n",
       "        vertical-align: middle;\n",
       "    }\n",
       "\n",
       "    .dataframe tbody tr th {\n",
       "        vertical-align: top;\n",
       "    }\n",
       "\n",
       "    .dataframe thead th {\n",
       "        text-align: right;\n",
       "    }\n",
       "</style>\n",
       "<table border=\"1\" class=\"dataframe\">\n",
       "  <thead>\n",
       "    <tr style=\"text-align: right;\">\n",
       "      <th></th>\n",
       "      <th>Total Rating Counts</th>\n",
       "      <th>Average of Ratings</th>\n",
       "      <th>city_sort</th>\n",
       "      <th>interest_sort</th>\n",
       "    </tr>\n",
       "  </thead>\n",
       "  <tbody>\n",
       "    <tr>\n",
       "      <th>1357</th>\n",
       "      <td>1</td>\n",
       "      <td>4.80</td>\n",
       "      <td>Zion National Park, UT</td>\n",
       "      <td>night_club</td>\n",
       "    </tr>\n",
       "    <tr>\n",
       "      <th>1351</th>\n",
       "      <td>4</td>\n",
       "      <td>4.78</td>\n",
       "      <td>Zion National Park, UT</td>\n",
       "      <td>amusement_park</td>\n",
       "    </tr>\n",
       "    <tr>\n",
       "      <th>1360</th>\n",
       "      <td>5</td>\n",
       "      <td>4.72</td>\n",
       "      <td>Zion National Park, UT</td>\n",
       "      <td>spa</td>\n",
       "    </tr>\n",
       "    <tr>\n",
       "      <th>1355</th>\n",
       "      <td>20</td>\n",
       "      <td>4.56</td>\n",
       "      <td>Zion National Park, UT</td>\n",
       "      <td>hotel</td>\n",
       "    </tr>\n",
       "    <tr>\n",
       "      <th>1356</th>\n",
       "      <td>1</td>\n",
       "      <td>4.50</td>\n",
       "      <td>Zion National Park, UT</td>\n",
       "      <td>museum</td>\n",
       "    </tr>\n",
       "  </tbody>\n",
       "</table>\n",
       "</div>"
      ],
      "text/plain": [
       "      Total Rating Counts  Average of Ratings               city_sort  \\\n",
       "1357                    1                4.80  Zion National Park, UT   \n",
       "1351                    4                4.78  Zion National Park, UT   \n",
       "1360                    5                4.72  Zion National Park, UT   \n",
       "1355                   20                4.56  Zion National Park, UT   \n",
       "1356                    1                4.50  Zion National Park, UT   \n",
       "\n",
       "       interest_sort  \n",
       "1357      night_club  \n",
       "1351  amusement_park  \n",
       "1360             spa  \n",
       "1355           hotel  \n",
       "1356          museum  "
      ]
     },
     "execution_count": 12,
     "metadata": {},
     "output_type": "execute_result"
    }
   ],
   "source": [
    "city_interest = pd.read_csv(\"Output/city_interest_rating_summary.csv\")\n",
    "city_interest=city_interest.sort_values(by=['city_sort','Average of Ratings','Total Rating Counts'], ascending=False)\n",
    "city_interest.head()\n",
    "\n",
    "    "
   ]
  },
  {
   "cell_type": "code",
   "execution_count": 35,
   "metadata": {},
   "outputs": [],
   "source": [
    "city=[]\n",
    "rating=[]\n",
    "count=[]\n",
    "for index,row in city_interest.iterrows():\n",
    "        if(int_type==row[3]):\n",
    "                city.append(row[2])\n",
    "                rating.append(row[1])\n",
    "                count.append(row[0])"
   ]
  },
  {
   "cell_type": "code",
   "execution_count": 41,
   "metadata": {},
   "outputs": [],
   "source": [
    "final_interest_df=pd.DataFrame({\"CityState\": city,\"Rating\": rating,\"Count\" : count})\n"
   ]
  },
  {
   "cell_type": "code",
   "execution_count": 42,
   "metadata": {},
   "outputs": [
    {
     "data": {
      "text/html": [
       "<div>\n",
       "<style scoped>\n",
       "    .dataframe tbody tr th:only-of-type {\n",
       "        vertical-align: middle;\n",
       "    }\n",
       "\n",
       "    .dataframe tbody tr th {\n",
       "        vertical-align: top;\n",
       "    }\n",
       "\n",
       "    .dataframe thead th {\n",
       "        text-align: right;\n",
       "    }\n",
       "</style>\n",
       "<table border=\"1\" class=\"dataframe\">\n",
       "  <thead>\n",
       "    <tr style=\"text-align: right;\">\n",
       "      <th></th>\n",
       "      <th>CityState</th>\n",
       "      <th>Rating</th>\n",
       "      <th>Count</th>\n",
       "      <th>City</th>\n",
       "      <th>State</th>\n",
       "      <th>Average Daily Cost per person</th>\n",
       "      <th>Unnamed: 4</th>\n",
       "      <th>Unnamed: 5</th>\n",
       "      <th>Unnamed: 6</th>\n",
       "    </tr>\n",
       "  </thead>\n",
       "  <tbody>\n",
       "    <tr>\n",
       "      <th>0</th>\n",
       "      <td>Zion National Park, UT</td>\n",
       "      <td>4.31</td>\n",
       "      <td>20</td>\n",
       "      <td>Zion National Park</td>\n",
       "      <td>UT</td>\n",
       "      <td>95</td>\n",
       "      <td>NaN</td>\n",
       "      <td>NaN</td>\n",
       "      <td>NaN</td>\n",
       "    </tr>\n",
       "    <tr>\n",
       "      <th>1</th>\n",
       "      <td>Yosemite National Park, CA</td>\n",
       "      <td>3.62</td>\n",
       "      <td>5</td>\n",
       "      <td>Yosemite National Park</td>\n",
       "      <td>CA</td>\n",
       "      <td>104</td>\n",
       "      <td>NaN</td>\n",
       "      <td>NaN</td>\n",
       "      <td>NaN</td>\n",
       "    </tr>\n",
       "    <tr>\n",
       "      <th>2</th>\n",
       "      <td>Yellow Stone National Park, WY</td>\n",
       "      <td>3.77</td>\n",
       "      <td>20</td>\n",
       "      <td>Yellow Stone National Park</td>\n",
       "      <td>WY</td>\n",
       "      <td>89</td>\n",
       "      <td>NaN</td>\n",
       "      <td>NaN</td>\n",
       "      <td>NaN</td>\n",
       "    </tr>\n",
       "    <tr>\n",
       "      <th>3</th>\n",
       "      <td>Williamsburg, VA</td>\n",
       "      <td>4.23</td>\n",
       "      <td>20</td>\n",
       "      <td>Williamsburg</td>\n",
       "      <td>VA</td>\n",
       "      <td>90</td>\n",
       "      <td>NaN</td>\n",
       "      <td>NaN</td>\n",
       "      <td>NaN</td>\n",
       "    </tr>\n",
       "    <tr>\n",
       "      <th>4</th>\n",
       "      <td>Virginia Beach, VA</td>\n",
       "      <td>4.40</td>\n",
       "      <td>20</td>\n",
       "      <td>Virginia Beach</td>\n",
       "      <td>VA</td>\n",
       "      <td>60</td>\n",
       "      <td>NaN</td>\n",
       "      <td>NaN</td>\n",
       "      <td>NaN</td>\n",
       "    </tr>\n",
       "  </tbody>\n",
       "</table>\n",
       "</div>"
      ],
      "text/plain": [
       "                        CityState  Rating  Count                        City  \\\n",
       "0          Zion National Park, UT    4.31     20          Zion National Park   \n",
       "1      Yosemite National Park, CA    3.62      5      Yosemite National Park   \n",
       "2  Yellow Stone National Park, WY    3.77     20  Yellow Stone National Park   \n",
       "3                Williamsburg, VA    4.23     20                Williamsburg   \n",
       "4              Virginia Beach, VA    4.40     20              Virginia Beach   \n",
       "\n",
       "  State  Average Daily Cost per person  Unnamed: 4  Unnamed: 5 Unnamed: 6  \n",
       "0    UT                             95         NaN         NaN        NaN  \n",
       "1    CA                            104         NaN         NaN        NaN  \n",
       "2    WY                             89         NaN         NaN        NaN  \n",
       "3    VA                             90         NaN         NaN        NaN  \n",
       "4    VA                             60         NaN         NaN        NaN  "
      ]
     },
     "execution_count": 42,
     "metadata": {},
     "output_type": "execute_result"
    }
   ],
   "source": [
    "city_temp_cost = pd.read_csv(\"CSV_Data_Files/CityTravelCost.csv\")\n",
    "interest_cost_merge=pd.merge(final_interest_df,city_temp_cost,on='CityState',how='inner')\n",
    "interest_cost_merge.head()"
   ]
  },
  {
   "cell_type": "code",
   "execution_count": 60,
   "metadata": {},
   "outputs": [],
   "source": [
    "# city_temp_cost = pd.read_csv(\"CSV_Data_Files/CityTravelCost.csv\")\n",
    "cityState=[]\n",
    "amount=[]\n",
    "count=[]\n",
    "rating=[]\n",
    "for index, row in interest_cost_merge.iterrows():\n",
    "    if((int(row[5]) >= int(min_amount)) and (int(row[5]) <= int(max_amount))):\n",
    "        cityState.append(row[0])\n",
    "        amount.append(row[5])\n",
    "        count.append(row[2])\n",
    "        rating.append(row[1])\n"
   ]
  },
  {
   "cell_type": "code",
   "execution_count": 61,
   "metadata": {},
   "outputs": [],
   "source": [
    "city_travel_df = pd.DataFrame({\n",
    "    'CityState': cityState,\n",
    "    'AvgAmt': amount,\n",
    "    'Cnt': count,\n",
    "    'Rating':rating\n",
    "    },index=cityState)\n",
    "\n",
    "if(len(city_travel_df) < 1):\n",
    "    print(\"Please Broaden your search Criterea\")\n",
    "city_travel_df=city_travel_df.nlargest(5, ['Rating','Cnt'],keep='first')"
   ]
  },
  {
   "cell_type": "code",
   "execution_count": 62,
   "metadata": {},
   "outputs": [],
   "source": [
    "settings = {\"units\": \"metric\", \"appid\": api_key}"
   ]
  },
  {
   "cell_type": "code",
   "execution_count": 64,
   "metadata": {},
   "outputs": [],
   "source": [
    "# Get data for each city in cities.csv\n",
    "weather_data = []\n",
    "summary = [\"name\", \"main.temp\"]\n",
    "weather_df = pd.DataFrame()\n",
    "for index,row in city_travel_df.iterrows():\n",
    "    try:\n",
    "        cityName=row[0].split(',')\n",
    "        weather_data=ow.get_current(cityName[0], **settings)\n",
    "        data = weather_data(*summary)\n",
    "        weather_df=weather_df.append({'State/Cities': data[0], 'Current Temp': data[1]}, ignore_index=True)\n",
    "    except:\n",
    "        print(\"record not found \" + row[0] )"
   ]
  },
  {
   "cell_type": "code",
   "execution_count": 65,
   "metadata": {},
   "outputs": [
    {
     "data": {
      "text/html": [
       "<div>\n",
       "<style scoped>\n",
       "    .dataframe tbody tr th:only-of-type {\n",
       "        vertical-align: middle;\n",
       "    }\n",
       "\n",
       "    .dataframe tbody tr th {\n",
       "        vertical-align: top;\n",
       "    }\n",
       "\n",
       "    .dataframe thead th {\n",
       "        text-align: right;\n",
       "    }\n",
       "</style>\n",
       "<table border=\"1\" class=\"dataframe\">\n",
       "  <thead>\n",
       "    <tr style=\"text-align: right;\">\n",
       "      <th></th>\n",
       "      <th>Current Temp</th>\n",
       "      <th>State/Cities</th>\n",
       "    </tr>\n",
       "  </thead>\n",
       "  <tbody>\n",
       "    <tr>\n",
       "      <th>0</th>\n",
       "      <td>15.10</td>\n",
       "      <td>Portland</td>\n",
       "    </tr>\n",
       "    <tr>\n",
       "      <th>1</th>\n",
       "      <td>20.54</td>\n",
       "      <td>Asheville</td>\n",
       "    </tr>\n",
       "    <tr>\n",
       "      <th>2</th>\n",
       "      <td>27.04</td>\n",
       "      <td>Charleston</td>\n",
       "    </tr>\n",
       "    <tr>\n",
       "      <th>3</th>\n",
       "      <td>23.11</td>\n",
       "      <td>Cincinnati</td>\n",
       "    </tr>\n",
       "    <tr>\n",
       "      <th>4</th>\n",
       "      <td>21.84</td>\n",
       "      <td>Chicago</td>\n",
       "    </tr>\n",
       "  </tbody>\n",
       "</table>\n",
       "</div>"
      ],
      "text/plain": [
       "   Current Temp State/Cities\n",
       "0         15.10     Portland\n",
       "1         20.54    Asheville\n",
       "2         27.04   Charleston\n",
       "3         23.11   Cincinnati\n",
       "4         21.84      Chicago"
      ]
     },
     "execution_count": 65,
     "metadata": {},
     "output_type": "execute_result"
    }
   ],
   "source": [
    "weather_df"
   ]
  },
  {
   "cell_type": "code",
   "execution_count": 66,
   "metadata": {},
   "outputs": [
    {
     "data": {
      "image/png": "[encoded data removed]",
      "text/plain": [
       "<Figure size 432x288 with 1 Axes>"
      ]
     },
     "metadata": {
      "needs_background": "light"
     },
     "output_type": "display_data"
    }
   ],
   "source": [
    "lines = weather_df.plot.line()"
   ]
  },
  {
   "cell_type": "code",
   "execution_count": null,
   "metadata": {},
   "outputs": [],
   "source": []
  }
 ],
 "metadata": {
  "kernelspec": {
   "display_name": "Python 3",
   "language": "python",
   "name": "python3"
  },
  "language_info": {
   "codemirror_mode": {
    "name": "ipython",
    "version": 3
   },
   "file_extension": ".py",
   "mimetype": "text/x-python",
   "name": "python",
   "nbconvert_exporter": "python",
   "pygments_lexer": "ipython3",
   "version": "3.7.3"
  }
 },
 "nbformat": 4,
 "nbformat_minor": 2
}
