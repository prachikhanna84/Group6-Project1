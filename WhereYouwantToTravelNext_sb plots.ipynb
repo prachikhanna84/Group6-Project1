{
 "cells": [
  {
   "cell_type": "code",
   "execution_count": 1,
   "metadata": {},
   "outputs": [],
   "source": [
    "# Dependencies\n",
    "import pandas as pd\n",
    "import csv\n",
    "import matplotlib.pyplot as plt\n",
    "import openweathermapy as ow\n",
    "\n",
    "api_key = \"362d2ce77ac1347c707f15a319677c99\""
   ]
  },
  {
   "cell_type": "code",
   "execution_count": 8,
   "metadata": {},
   "outputs": [
    {
     "name": "stdout",
     "output_type": "stream",
     "text": [
      "How much are you willing to spend in one day per person\n",
      "Min amount100\n",
      "Max amount600\n"
     ]
    }
   ],
   "source": [
    "print(\"How much are you willing to spend in one day per person\")\n",
    "min_amount=input(\"Min amount\")\n",
    "max_amount=input(\"Max amount\")"
   ]
  },
  {
   "cell_type": "code",
   "execution_count": 19,
   "metadata": {},
   "outputs": [
    {
     "name": "stdout",
     "output_type": "stream",
     "text": [
      "Please enter the area of your interests(all,dining,shopping,museums,sports,spas):all\n",
      "Please enter place type (hotel,amusement_park,bar,cafe,casino,museum,night_club,restaurant,shopping_mall,spa,stadium,zoo): hotel\n"
     ]
    }
   ],
   "source": [
    "area_int=input(\"Please enter the area of your interests(all,dining,shopping,museums,sports,spas):\")\n",
    "    \n",
    "if area_int== \"all\":\n",
    "    int_type=input(\"Please enter place type (hotel,amusement_park,bar,cafe,casino,museum,night_club,restaurant,shopping_mall,spa,stadium,zoo): \")\n",
    "elif area_int== \"dining\":\n",
    "    int_type=input(\"Please enter place type (bar,cafe,casino,night_club,restaurant): \")\n",
    "elif area_int== \"shopping\":\n",
    "    int_type=input(\"Please enter place type (shopping_mall): \")\n",
    "elif area_int== \"museums\":\n",
    "    int_type=input(\"Please enter place type (museums,zoo): \")\n",
    "elif area_int==\"sports\":\n",
    "    int_type=input(\"Please enter place type (amusement_park,stadium): \")\n",
    "elif area_int==\"spas\":\n",
    "    int_type=input(\"Please enter place type (spas): \")  \n",
    "    \n",
    "#     put error handling for if user enter invalid data "
   ]
  },
  {
   "cell_type": "code",
   "execution_count": 20,
   "metadata": {},
   "outputs": [
    {
     "data": {
      "text/html": [
       "<div>\n",
       "<style scoped>\n",
       "    .dataframe tbody tr th:only-of-type {\n",
       "        vertical-align: middle;\n",
       "    }\n",
       "\n",
       "    .dataframe tbody tr th {\n",
       "        vertical-align: top;\n",
       "    }\n",
       "\n",
       "    .dataframe thead th {\n",
       "        text-align: right;\n",
       "    }\n",
       "</style>\n",
       "<table border=\"1\" class=\"dataframe\">\n",
       "  <thead>\n",
       "    <tr style=\"text-align: right;\">\n",
       "      <th></th>\n",
       "      <th>Total Rating Counts</th>\n",
       "      <th>Average of Ratings</th>\n",
       "      <th>Max Number of Reviews</th>\n",
       "      <th>Average Number of Reviews</th>\n",
       "      <th>city_sort</th>\n",
       "      <th>interest_sort</th>\n",
       "    </tr>\n",
       "  </thead>\n",
       "  <tbody>\n",
       "    <tr>\n",
       "      <th>1285</th>\n",
       "      <td>20</td>\n",
       "      <td>4.62</td>\n",
       "      <td>1105.0</td>\n",
       "      <td>488.00</td>\n",
       "      <td>Wichita,  KS</td>\n",
       "      <td>restaurant</td>\n",
       "    </tr>\n",
       "    <tr>\n",
       "      <th>1289</th>\n",
       "      <td>3</td>\n",
       "      <td>4.57</td>\n",
       "      <td>4064.0</td>\n",
       "      <td>1430.67</td>\n",
       "      <td>Wichita,  KS</td>\n",
       "      <td>zoo</td>\n",
       "    </tr>\n",
       "    <tr>\n",
       "      <th>1280</th>\n",
       "      <td>20</td>\n",
       "      <td>4.56</td>\n",
       "      <td>710.0</td>\n",
       "      <td>292.65</td>\n",
       "      <td>Wichita,  KS</td>\n",
       "      <td>cafe</td>\n",
       "    </tr>\n",
       "    <tr>\n",
       "      <th>1287</th>\n",
       "      <td>20</td>\n",
       "      <td>4.46</td>\n",
       "      <td>172.0</td>\n",
       "      <td>61.20</td>\n",
       "      <td>Wichita,  KS</td>\n",
       "      <td>spa</td>\n",
       "    </tr>\n",
       "    <tr>\n",
       "      <th>1279</th>\n",
       "      <td>20</td>\n",
       "      <td>4.39</td>\n",
       "      <td>1056.0</td>\n",
       "      <td>394.75</td>\n",
       "      <td>Wichita,  KS</td>\n",
       "      <td>bar</td>\n",
       "    </tr>\n",
       "  </tbody>\n",
       "</table>\n",
       "</div>"
      ],
      "text/plain": [
       "      Total Rating Counts  Average of Ratings  Max Number of Reviews  \\\n",
       "1285                   20                4.62                 1105.0   \n",
       "1289                    3                4.57                 4064.0   \n",
       "1280                   20                4.56                  710.0   \n",
       "1287                   20                4.46                  172.0   \n",
       "1279                   20                4.39                 1056.0   \n",
       "\n",
       "      Average Number of Reviews     city_sort interest_sort  \n",
       "1285                     488.00  Wichita,  KS    restaurant  \n",
       "1289                    1430.67  Wichita,  KS           zoo  \n",
       "1280                     292.65  Wichita,  KS          cafe  \n",
       "1287                      61.20  Wichita,  KS           spa  \n",
       "1279                     394.75  Wichita,  KS           bar  "
      ]
     },
     "execution_count": 20,
     "metadata": {},
     "output_type": "execute_result"
    }
   ],
   "source": [
    "\n",
    "## I PULLED IN THE NEW .CSV WITH THE NUMBER OF REVIEWS\n",
    "\n",
    "city_interest = pd.read_csv(\"Output/city_interest_rating_summary.csv\")\n",
    "city_interest=city_interest.sort_values(by=['city_sort','Average of Ratings','Total Rating Counts'], ascending=False)\n",
    "city_interest.head()"
   ]
  },
  {
   "cell_type": "code",
   "execution_count": 39,
   "metadata": {},
   "outputs": [],
   "source": [
    "\n",
    "## I ADDED THE NUMBER OF REVIEWS AND ADJUSTED THE COLUMN NUMBERS IN THE FOR LOOP\n",
    "\n",
    "city=[]\n",
    "rating=[]\n",
    "count=[]\n",
    "review = []\n",
    "for index,row in city_interest.iterrows():\n",
    "        if(int_type==row[5]):\n",
    "                city.append(row[4])\n",
    "                rating.append(row[1])\n",
    "                count.append(row[0])\n",
    "                review.append(row[3])"
   ]
  },
  {
   "cell_type": "code",
   "execution_count": 40,
   "metadata": {},
   "outputs": [
    {
     "data": {
      "text/html": [
       "<div>\n",
       "<style scoped>\n",
       "    .dataframe tbody tr th:only-of-type {\n",
       "        vertical-align: middle;\n",
       "    }\n",
       "\n",
       "    .dataframe tbody tr th {\n",
       "        vertical-align: top;\n",
       "    }\n",
       "\n",
       "    .dataframe thead th {\n",
       "        text-align: right;\n",
       "    }\n",
       "</style>\n",
       "<table border=\"1\" class=\"dataframe\">\n",
       "  <thead>\n",
       "    <tr style=\"text-align: right;\">\n",
       "      <th></th>\n",
       "      <th>CityState</th>\n",
       "      <th>Rating</th>\n",
       "      <th>Count</th>\n",
       "      <th>Avg Number of Reviews</th>\n",
       "    </tr>\n",
       "  </thead>\n",
       "  <tbody>\n",
       "    <tr>\n",
       "      <th>0</th>\n",
       "      <td>Wichita,  KS</td>\n",
       "      <td>4.31</td>\n",
       "      <td>20</td>\n",
       "      <td>497.95</td>\n",
       "    </tr>\n",
       "    <tr>\n",
       "      <th>1</th>\n",
       "      <td>West Palm Beach,  FL</td>\n",
       "      <td>4.04</td>\n",
       "      <td>20</td>\n",
       "      <td>599.40</td>\n",
       "    </tr>\n",
       "    <tr>\n",
       "      <th>2</th>\n",
       "      <td>Washington,  DC</td>\n",
       "      <td>4.44</td>\n",
       "      <td>20</td>\n",
       "      <td>1387.75</td>\n",
       "    </tr>\n",
       "    <tr>\n",
       "      <th>3</th>\n",
       "      <td>Virginia Beach,  VA</td>\n",
       "      <td>3.98</td>\n",
       "      <td>20</td>\n",
       "      <td>718.70</td>\n",
       "    </tr>\n",
       "    <tr>\n",
       "      <th>4</th>\n",
       "      <td>Vancouver,  WA</td>\n",
       "      <td>4.22</td>\n",
       "      <td>20</td>\n",
       "      <td>447.15</td>\n",
       "    </tr>\n",
       "  </tbody>\n",
       "</table>\n",
       "</div>"
      ],
      "text/plain": [
       "              CityState  Rating  Count  Avg Number of Reviews\n",
       "0          Wichita,  KS    4.31     20                 497.95\n",
       "1  West Palm Beach,  FL    4.04     20                 599.40\n",
       "2       Washington,  DC    4.44     20                1387.75\n",
       "3   Virginia Beach,  VA    3.98     20                 718.70\n",
       "4        Vancouver,  WA    4.22     20                 447.15"
      ]
     },
     "execution_count": 40,
     "metadata": {},
     "output_type": "execute_result"
    }
   ],
   "source": [
    "\n",
    "## I ADDED THE NUMBER OF REVIEWS TO DATAFRAME\n",
    "\n",
    "final_interest_df=pd.DataFrame({\"CityState\": city,\"Rating\": rating,\"Count\" : count,\"Avg Number of Reviews\" : review})\n",
    "final_interest_df.head()"
   ]
  },
  {
   "cell_type": "code",
   "execution_count": 41,
   "metadata": {},
   "outputs": [
    {
     "data": {
      "text/html": [
       "<div>\n",
       "<style scoped>\n",
       "    .dataframe tbody tr th:only-of-type {\n",
       "        vertical-align: middle;\n",
       "    }\n",
       "\n",
       "    .dataframe tbody tr th {\n",
       "        vertical-align: top;\n",
       "    }\n",
       "\n",
       "    .dataframe thead th {\n",
       "        text-align: right;\n",
       "    }\n",
       "</style>\n",
       "<table border=\"1\" class=\"dataframe\">\n",
       "  <thead>\n",
       "    <tr style=\"text-align: right;\">\n",
       "      <th></th>\n",
       "      <th>CityState</th>\n",
       "      <th>Rating</th>\n",
       "      <th>Count</th>\n",
       "      <th>Avg Number of Reviews</th>\n",
       "      <th>City</th>\n",
       "      <th>State</th>\n",
       "      <th>Average Daily Cost per person</th>\n",
       "      <th>Unnamed: 4</th>\n",
       "      <th>Unnamed: 5</th>\n",
       "      <th>Unnamed: 6</th>\n",
       "    </tr>\n",
       "  </thead>\n",
       "  <tbody>\n",
       "    <tr>\n",
       "      <th>0</th>\n",
       "      <td>West Palm Beach,  FL</td>\n",
       "      <td>4.04</td>\n",
       "      <td>20</td>\n",
       "      <td>599.40</td>\n",
       "      <td>West Palm Beach</td>\n",
       "      <td>FL</td>\n",
       "      <td>350</td>\n",
       "      <td>NaN</td>\n",
       "      <td>NaN</td>\n",
       "      <td>NaN</td>\n",
       "    </tr>\n",
       "    <tr>\n",
       "      <th>1</th>\n",
       "      <td>Washington,  DC</td>\n",
       "      <td>4.44</td>\n",
       "      <td>20</td>\n",
       "      <td>1387.75</td>\n",
       "      <td>Washington</td>\n",
       "      <td>DC</td>\n",
       "      <td>155</td>\n",
       "      <td>NaN</td>\n",
       "      <td>NaN</td>\n",
       "      <td>NaN</td>\n",
       "    </tr>\n",
       "    <tr>\n",
       "      <th>2</th>\n",
       "      <td>Tacoma,  WA</td>\n",
       "      <td>3.78</td>\n",
       "      <td>20</td>\n",
       "      <td>827.75</td>\n",
       "      <td>Tacoma</td>\n",
       "      <td>WA</td>\n",
       "      <td>110</td>\n",
       "      <td>NaN</td>\n",
       "      <td>NaN</td>\n",
       "      <td>NaN</td>\n",
       "    </tr>\n",
       "    <tr>\n",
       "      <th>3</th>\n",
       "      <td>Seattle,  WA</td>\n",
       "      <td>4.42</td>\n",
       "      <td>20</td>\n",
       "      <td>1753.70</td>\n",
       "      <td>Seattle</td>\n",
       "      <td>WA</td>\n",
       "      <td>154</td>\n",
       "      <td>NaN</td>\n",
       "      <td>NaN</td>\n",
       "      <td>NaN</td>\n",
       "    </tr>\n",
       "    <tr>\n",
       "      <th>4</th>\n",
       "      <td>Santa Rosa,  CA</td>\n",
       "      <td>3.74</td>\n",
       "      <td>20</td>\n",
       "      <td>326.15</td>\n",
       "      <td>Santa Rosa</td>\n",
       "      <td>CA</td>\n",
       "      <td>250</td>\n",
       "      <td>NaN</td>\n",
       "      <td>NaN</td>\n",
       "      <td>NaN</td>\n",
       "    </tr>\n",
       "  </tbody>\n",
       "</table>\n",
       "</div>"
      ],
      "text/plain": [
       "              CityState  Rating  Count  Avg Number of Reviews  \\\n",
       "0  West Palm Beach,  FL    4.04     20                 599.40   \n",
       "1       Washington,  DC    4.44     20                1387.75   \n",
       "2           Tacoma,  WA    3.78     20                 827.75   \n",
       "3          Seattle,  WA    4.42     20                1753.70   \n",
       "4       Santa Rosa,  CA    3.74     20                 326.15   \n",
       "\n",
       "              City State  Average Daily Cost per person  Unnamed: 4  \\\n",
       "0  West Palm Beach    FL                            350         NaN   \n",
       "1       Washington    DC                            155         NaN   \n",
       "2           Tacoma    WA                            110         NaN   \n",
       "3          Seattle    WA                            154         NaN   \n",
       "4       Santa Rosa    CA                            250         NaN   \n",
       "\n",
       "   Unnamed: 5 Unnamed: 6  \n",
       "0         NaN        NaN  \n",
       "1         NaN        NaN  \n",
       "2         NaN        NaN  \n",
       "3         NaN        NaN  \n",
       "4         NaN        NaN  "
      ]
     },
     "execution_count": 41,
     "metadata": {},
     "output_type": "execute_result"
    }
   ],
   "source": [
    "city_temp_cost = pd.read_csv(\"CSV_Data_Files/CityTravelCost.csv\")\n",
    "interest_cost_merge=pd.merge(final_interest_df,city_temp_cost,on='CityState',how='inner')\n",
    "interest_cost_merge.head()"
   ]
  },
  {
   "cell_type": "code",
   "execution_count": 42,
   "metadata": {},
   "outputs": [],
   "source": [
    "\n",
    "## I ADDED THE NUMBER OF REVIEWS AND ADJUSTED THE COLUMN NUMBERS IN THE FOR LOOP\n",
    "\n",
    "# city_temp_cost = pd.read_csv(\"CSV_Data_Files/CityTravelCost.csv\")\n",
    "cityState=[]\n",
    "amount=[]\n",
    "count=[]\n",
    "rating=[]\n",
    "review = []\n",
    "for index, row in interest_cost_merge.iterrows():\n",
    "    if((int(row[6]) >= int(min_amount)) and (int(row[6]) <= int(max_amount))):\n",
    "        cityState.append(row[0])\n",
    "        amount.append(row[6])\n",
    "        count.append(row[2])\n",
    "        rating.append(row[1])\n",
    "        review.append(row[3])\n"
   ]
  },
  {
   "cell_type": "code",
   "execution_count": 43,
   "metadata": {},
   "outputs": [],
   "source": [
    "\n",
    "## I ADDED THE NUMBER OF REVIEWS TO THE DATAFRAME\n",
    "\n",
    "city_travel_df = pd.DataFrame({\n",
    "    'CityState': cityState,\n",
    "    'AvgAmt': amount,\n",
    "    'Cnt': count,\n",
    "    'Rating':rating,\n",
    "    'Review':review\n",
    "    },index=cityState)\n",
    "\n",
    "if(len(city_travel_df) < 1):\n",
    "    print(\"Please Broaden your search Criterea\")\n",
    "city_travel_df=city_travel_df.nlargest(5, ['Rating','Cnt'],keep='first')"
   ]
  },
  {
   "cell_type": "code",
   "execution_count": 44,
   "metadata": {},
   "outputs": [
    {
     "data": {
      "text/html": [
       "<div>\n",
       "<style scoped>\n",
       "    .dataframe tbody tr th:only-of-type {\n",
       "        vertical-align: middle;\n",
       "    }\n",
       "\n",
       "    .dataframe tbody tr th {\n",
       "        vertical-align: top;\n",
       "    }\n",
       "\n",
       "    .dataframe thead th {\n",
       "        text-align: right;\n",
       "    }\n",
       "</style>\n",
       "<table border=\"1\" class=\"dataframe\">\n",
       "  <thead>\n",
       "    <tr style=\"text-align: right;\">\n",
       "      <th></th>\n",
       "      <th>CityState</th>\n",
       "      <th>AvgAmt</th>\n",
       "      <th>Cnt</th>\n",
       "      <th>Rating</th>\n",
       "      <th>Review</th>\n",
       "    </tr>\n",
       "  </thead>\n",
       "  <tbody>\n",
       "    <tr>\n",
       "      <th>Chicago,  IL</th>\n",
       "      <td>Chicago,  IL</td>\n",
       "      <td>180</td>\n",
       "      <td>20</td>\n",
       "      <td>4.45</td>\n",
       "      <td>2362.60</td>\n",
       "    </tr>\n",
       "    <tr>\n",
       "      <th>Washington,  DC</th>\n",
       "      <td>Washington,  DC</td>\n",
       "      <td>155</td>\n",
       "      <td>20</td>\n",
       "      <td>4.44</td>\n",
       "      <td>1387.75</td>\n",
       "    </tr>\n",
       "    <tr>\n",
       "      <th>Seattle,  WA</th>\n",
       "      <td>Seattle,  WA</td>\n",
       "      <td>154</td>\n",
       "      <td>20</td>\n",
       "      <td>4.42</td>\n",
       "      <td>1753.70</td>\n",
       "    </tr>\n",
       "    <tr>\n",
       "      <th>Las Vegas,  NV</th>\n",
       "      <td>Las Vegas,  NV</td>\n",
       "      <td>250</td>\n",
       "      <td>20</td>\n",
       "      <td>4.40</td>\n",
       "      <td>19948.25</td>\n",
       "    </tr>\n",
       "    <tr>\n",
       "      <th>Santa Barbara,  CA</th>\n",
       "      <td>Santa Barbara,  CA</td>\n",
       "      <td>130</td>\n",
       "      <td>20</td>\n",
       "      <td>4.39</td>\n",
       "      <td>378.10</td>\n",
       "    </tr>\n",
       "  </tbody>\n",
       "</table>\n",
       "</div>"
      ],
      "text/plain": [
       "                             CityState  AvgAmt  Cnt  Rating    Review\n",
       "Chicago,  IL              Chicago,  IL     180   20    4.45   2362.60\n",
       "Washington,  DC        Washington,  DC     155   20    4.44   1387.75\n",
       "Seattle,  WA              Seattle,  WA     154   20    4.42   1753.70\n",
       "Las Vegas,  NV          Las Vegas,  NV     250   20    4.40  19948.25\n",
       "Santa Barbara,  CA  Santa Barbara,  CA     130   20    4.39    378.10"
      ]
     },
     "execution_count": 44,
     "metadata": {},
     "output_type": "execute_result"
    }
   ],
   "source": [
    "city_travel_df.head()"
   ]
  },
  {
   "cell_type": "code",
   "execution_count": 45,
   "metadata": {},
   "outputs": [],
   "source": [
    "settings = {\"units\": \"metric\", \"appid\": api_key}"
   ]
  },
  {
   "cell_type": "code",
   "execution_count": 46,
   "metadata": {},
   "outputs": [],
   "source": [
    "# Get data for each city in cities.csv\n",
    "weather_data = []\n",
    "summary = [\"name\", \"main.temp\"]\n",
    "weather_df = pd.DataFrame()\n",
    "for index,row in city_travel_df.iterrows():\n",
    "    try:\n",
    "        cityName=row[0].split(',')\n",
    "        weather_data=ow.get_current(cityName[0], **settings)\n",
    "        data = weather_data(*summary)\n",
    "        weather_df=weather_df.append({'State/Cities': data[0], 'Current Temp': data[1]}, ignore_index=True)\n",
    "    except:\n",
    "        print(\"record not found \" + row[0] )"
   ]
  },
  {
   "cell_type": "code",
   "execution_count": 47,
   "metadata": {},
   "outputs": [
    {
     "data": {
      "text/html": [
       "<div>\n",
       "<style scoped>\n",
       "    .dataframe tbody tr th:only-of-type {\n",
       "        vertical-align: middle;\n",
       "    }\n",
       "\n",
       "    .dataframe tbody tr th {\n",
       "        vertical-align: top;\n",
       "    }\n",
       "\n",
       "    .dataframe thead th {\n",
       "        text-align: right;\n",
       "    }\n",
       "</style>\n",
       "<table border=\"1\" class=\"dataframe\">\n",
       "  <thead>\n",
       "    <tr style=\"text-align: right;\">\n",
       "      <th></th>\n",
       "      <th>Current Temp</th>\n",
       "      <th>State/Cities</th>\n",
       "    </tr>\n",
       "  </thead>\n",
       "  <tbody>\n",
       "    <tr>\n",
       "      <th>0</th>\n",
       "      <td>27.96</td>\n",
       "      <td>Chicago</td>\n",
       "    </tr>\n",
       "    <tr>\n",
       "      <th>1</th>\n",
       "      <td>24.91</td>\n",
       "      <td>Washington DC.</td>\n",
       "    </tr>\n",
       "    <tr>\n",
       "      <th>2</th>\n",
       "      <td>14.26</td>\n",
       "      <td>Seattle</td>\n",
       "    </tr>\n",
       "    <tr>\n",
       "      <th>3</th>\n",
       "      <td>37.44</td>\n",
       "      <td>Las Vegas</td>\n",
       "    </tr>\n",
       "    <tr>\n",
       "      <th>4</th>\n",
       "      <td>24.60</td>\n",
       "      <td>Santa Barbara</td>\n",
       "    </tr>\n",
       "  </tbody>\n",
       "</table>\n",
       "</div>"
      ],
      "text/plain": [
       "   Current Temp    State/Cities\n",
       "0         27.96         Chicago\n",
       "1         24.91  Washington DC.\n",
       "2         14.26         Seattle\n",
       "3         37.44       Las Vegas\n",
       "4         24.60   Santa Barbara"
      ]
     },
     "execution_count": 47,
     "metadata": {},
     "output_type": "execute_result"
    }
   ],
   "source": [
    "weather_df"
   ]
  },
  {
   "cell_type": "code",
   "execution_count": 90,
   "metadata": {},
   "outputs": [
    {
     "data": {
      "image/png": "[encoded data removed]",
      "text/plain": [
       "<Figure size 432x288 with 1 Axes>"
      ]
     },
     "metadata": {
      "needs_background": "light"
     },
     "output_type": "display_data"
    }
   ],
   "source": [
    "lines = weather_df.plot.line()"
   ]
  },
  {
   "cell_type": "code",
   "execution_count": 52,
   "metadata": {},
   "outputs": [],
   "source": [
    "#NAME VARIABLES FOR PLOTTING FROM \n",
    "weather = weather_df[\"Current Temp\"]\n",
    "\n",
    "interest_rating = city_travel_df[\"Rating\"]\n",
    "city_cost = city_travel_df[\"AvgAmt\"]\n",
    "rating_count = city_travel_df[\"Cnt\"]\n",
    "avg_reviews = city_travel_df[\"Review\"]\n",
    "\n",
    "#THIS VARIABLE IS FOR LABELING THE POINTS\n",
    "cities = city_travel_df[\"CityState\"]"
   ]
  },
  {
   "cell_type": "code",
   "execution_count": 59,
   "metadata": {},
   "outputs": [
    {
     "data": {
      "image/png": "[encoded data removed]",
      "text/plain": [
       "<Figure size 432x288 with 1 Axes>"
      ]
     },
     "metadata": {
      "needs_background": "light"
     },
     "output_type": "display_data"
    }
   ],
   "source": [
    "#SCATTER PLOT 1 - COST vs RATING\n",
    "\n",
    "#Add Labels\n",
    "for i,type in enumerate(cities):\n",
    "    x = city_cost[i]\n",
    "    y = interest_rating[i]\n",
    "    plt.scatter(x, y, marker=\"o\", facecolors=\"salmon\", edgecolors=\"tomato\")\n",
    "    plt.text(x+0.1, y+0.005, type, fontsize=10)\n",
    "\n",
    "\n",
    "#Title & Grid\n",
    "plt.title(\"Average City Cost vs Average Rating of Travel Interest\")\n",
    "plt.xlabel(\"Average City Cost\")\n",
    "plt.ylabel(\"Average User Rating of Travel Interest\")\n",
    "plt.grid(True)\n",
    "plt.show()"
   ]
  },
  {
   "cell_type": "code",
   "execution_count": 60,
   "metadata": {},
   "outputs": [
    {
     "data": {
      "image/png": "[encoded data removed]",
      "text/plain": [
       "<Figure size 432x288 with 1 Axes>"
      ]
     },
     "metadata": {
      "needs_background": "light"
     },
     "output_type": "display_data"
    }
   ],
   "source": [
    "#SCATTER PLOT 2 - WEATHER vs RATING\n",
    "\n",
    "#Add Labels throguh Loop\n",
    "for i,type in enumerate(cities):\n",
    "    x = weather[i]\n",
    "    y = interest_rating[i]\n",
    "    plt.scatter(x, y, marker=\"o\", facecolors=\"aqua\", edgecolors=\"royalblue\")\n",
    "    plt.text(x+0.1, y+0.005, type, fontsize=10)\n",
    "\n",
    "\n",
    "#Title & Grid\n",
    "plt.title(\"Current Weather vs Average Rating of Travel Interest\")\n",
    "plt.xlabel(\"Current Weather\")\n",
    "plt.ylabel(\"Average User Rating of Travel Interest\")\n",
    "plt.grid(True)\n",
    "plt.show()"
   ]
  },
  {
   "cell_type": "code",
   "execution_count": 58,
   "metadata": {},
   "outputs": [
    {
     "data": {
      "image/png": "[encoded data removed]",
      "text/plain": [
       "<Figure size 432x288 with 1 Axes>"
      ]
     },
     "metadata": {},
     "output_type": "display_data"
    }
   ],
   "source": [
    "#PIE CHART - COUNT OF USER RATINGS\n",
    "\n",
    "colors = [\"gold\",\"lightskyblue\", \"lightcoral\", \"green\", \"orange\"]\n",
    "explode = (0.05, 0.05, 0.05, 0.05, 0.05)\n",
    "\n",
    "plt.pie(rating_count, colors=colors, explode=explode, labels=cities, autopct=\"%1.1f%%\", shadow=True, startangle=140)\n",
    "\n",
    "plt.title(\"Share of the Total Count of Establishments Rated\")\n",
    "\n",
    "plt.tight_layout()"
   ]
  },
  {
   "cell_type": "code",
   "execution_count": 61,
   "metadata": {},
   "outputs": [
    {
     "data": {
      "image/png": "[encoded data removed]",
      "text/plain": [
       "<Figure size 432x288 with 1 Axes>"
      ]
     },
     "metadata": {},
     "output_type": "display_data"
    }
   ],
   "source": [
    "#PIE CHART - Average of the Number of Reviews\n",
    "\n",
    "colors = [\"gold\",\"lightskyblue\", \"lightcoral\", \"green\", \"orange\"]\n",
    "explode = (0.05, 0.05, 0.05, 0.05, 0.05)\n",
    "\n",
    "plt.pie(avg_reviews, colors=colors, explode=explode, labels=cities, autopct=\"%1.1f%%\", shadow=True, startangle=140)\n",
    "\n",
    "plt.title(\"Share of the Average Number of Reviews for Travel Interest\")\n",
    "\n",
    "plt.tight_layout()"
   ]
  },
  {
   "cell_type": "code",
   "execution_count": null,
   "metadata": {},
   "outputs": [],
   "source": []
  }
 ],
 "metadata": {
  "kernelspec": {
   "display_name": "Python 3",
   "language": "python",
   "name": "python3"
  },
  "language_info": {
   "codemirror_mode": {
    "name": "ipython",
    "version": 3
   },
   "file_extension": ".py",
   "mimetype": "text/x-python",
   "name": "python",
   "nbconvert_exporter": "python",
   "pygments_lexer": "ipython3",
   "version": "3.7.3"
  }
 },
 "nbformat": 4,
 "nbformat_minor": 2
}
